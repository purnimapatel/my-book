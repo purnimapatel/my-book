{
  "nbformat": 4,
  "nbformat_minor": 0,
  "metadata": {
    "colab": {
      "name": "MultithreadingPractice.ipynb",
      "provenance": [],
      "authorship_tag": "ABX9TyNxsVIeBjjJaElcwAzitEXO",
      "include_colab_link": true
    },
    "kernelspec": {
      "name": "python3",
      "display_name": "Python 3"
    },
    "language_info": {
      "name": "python"
    }
  },
  "cells": [
    {
      "cell_type": "markdown",
      "metadata": {
        "id": "view-in-github",
        "colab_type": "text"
      },
      "source": [
        "<a href=\"https://colab.research.google.com/github/purnimapatel/my-book/blob/master/MultithreadingPractice.ipynb\" target=\"_parent\"><img src=\"https://colab.research.google.com/assets/colab-badge.svg\" alt=\"Open In Colab\"/></a>"
      ]
    },
    {
      "cell_type": "code",
      "source": [
        "from threading import Thread\n",
        "def desp():\n",
        "  print(\"Thread Running\")\n",
        "t = Thread(target = desp)\n",
        "t.start()"
      ],
      "metadata": {
        "colab": {
          "base_uri": "https://localhost:8080/"
        },
        "id": "0bxqKVpQ-5ap",
        "outputId": "a236f259-1b61-4580-fa52-df62d043ec00"
      },
      "execution_count": 3,
      "outputs": [
        {
          "output_type": "stream",
          "name": "stdout",
          "text": [
            "Thread Running\n"
          ]
        }
      ]
    },
    {
      "cell_type": "code",
      "source": [
        "from threading import Thread\n",
        "def desp(a):\n",
        "  for i in range(5):\n",
        "    print(\"Thread Running\", a)\n",
        "\n",
        "t = Thread(target = desp, args = (10,))\n",
        "t.start()\n",
        "for i in range(5):\n",
        "  print(\"I am main thread\")\n"
      ],
      "metadata": {
        "colab": {
          "base_uri": "https://localhost:8080/"
        },
        "id": "4moLNSVL_qQo",
        "outputId": "17bc29c3-0b6b-47f6-e31b-416f468272a4"
      },
      "execution_count": 16,
      "outputs": [
        {
          "output_type": "stream",
          "name": "stdout",
          "text": [
            "Thread RunningI am main thread\n",
            "I am main thread\n",
            "I am main thread\n",
            "I am main thread\n",
            "I am main thread\n",
            " 10\n",
            "Thread Running 10\n",
            "Thread Running 10\n",
            "Thread Running 10\n",
            "Thread Running 10\n"
          ]
        }
      ]
    },
    {
      "cell_type": "code",
      "source": [
        "from threading import Thread\n",
        "def desp(a):\n",
        "  for i in range(5):\n",
        "    print(\"Thread Running\", a)\n",
        "\n",
        "t = Thread(target = desp, args = (10,))\n",
        "t.start()\n",
        "for i in range(5):\n",
        "  print(\"I am main thread\")\n"
      ],
      "metadata": {
        "colab": {
          "base_uri": "https://localhost:8080/"
        },
        "id": "FJATEbj4CFVp",
        "outputId": "c2686fb2-1abe-44f7-9a2f-91a89f75e02e"
      },
      "execution_count": 17,
      "outputs": [
        {
          "output_type": "stream",
          "name": "stdout",
          "text": [
            "Thread Running 10\n",
            "I am main thread\n",
            "I am main thread\n",
            "I am main thread\n",
            "I am main thread\n",
            "I am main thread\n",
            "Thread Running 10\n",
            "Thread Running 10\n",
            "Thread Running 10\n",
            "Thread Running 10\n"
          ]
        }
      ]
    },
    {
      "cell_type": "code",
      "source": [
        "import time\n",
        "import _thread\n",
        "\n",
        "def thread_test(name, wait):\n",
        "   i = 0\n",
        "   while i <= 3:\n",
        "      time.sleep(wait)\n",
        "      print(\"Running %s\\n\" %name)\n",
        "      i = i + 1\n",
        "\n",
        "   print(\"%s has finished execution\" %name)\n",
        "\n",
        "if __name__ == \"__main__\":\n",
        "    \n",
        "    _thread.start_new_thread(thread_test, (\"First Thread\", 1))\n",
        "    _thread.start_new_thread(thread_test, (\"Second Thread\", 2))\n",
        "    _thread.start_new_thread(thread_test, (\"Third Thread\", 3))"
      ],
      "metadata": {
        "id": "P4FdiMbuCe8_"
      },
      "execution_count": 22,
      "outputs": []
    }
  ]
}